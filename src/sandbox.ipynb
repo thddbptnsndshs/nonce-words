{
 "cells": [
  {
   "cell_type": "code",
   "execution_count": 1,
   "id": "4da6af5e",
   "metadata": {},
   "outputs": [
    {
     "data": {
      "text/html": [
       "<div>\n",
       "<style scoped>\n",
       "    .dataframe tbody tr th:only-of-type {\n",
       "        vertical-align: middle;\n",
       "    }\n",
       "\n",
       "    .dataframe tbody tr th {\n",
       "        vertical-align: top;\n",
       "    }\n",
       "\n",
       "    .dataframe thead th {\n",
       "        text-align: right;\n",
       "    }\n",
       "</style>\n",
       "<table border=\"1\" class=\"dataframe\">\n",
       "  <thead>\n",
       "    <tr style=\"text-align: right;\">\n",
       "      <th></th>\n",
       "      <th>summary</th>\n",
       "      <th>config</th>\n",
       "      <th>name</th>\n",
       "    </tr>\n",
       "  </thead>\n",
       "  <tbody>\n",
       "    <tr>\n",
       "      <th>0</th>\n",
       "      <td>{'odds': 2.8044351539053665, 'P&gt;|z|': 3.371792...</td>\n",
       "      <td>{'lr': 0.001, 'num_layers': 10, 'config_path':...</td>\n",
       "      <td>helpful-sweep-10</td>\n",
       "    </tr>\n",
       "    <tr>\n",
       "      <th>1</th>\n",
       "      <td>{'_timestamp': 1709629253.8705912, 'P&gt;|z|': 3....</td>\n",
       "      <td>{'lr': 1e-05, 'num_layers': 10, 'config_path':...</td>\n",
       "      <td>distinctive-sweep-9</td>\n",
       "    </tr>\n",
       "    <tr>\n",
       "      <th>2</th>\n",
       "      <td>{'val/loss': 2.938401699066162, 'train/loss': ...</td>\n",
       "      <td>{'lr': 1e-05, 'num_layers': 9, 'config_path': ...</td>\n",
       "      <td>helpful-sweep-8</td>\n",
       "    </tr>\n",
       "    <tr>\n",
       "      <th>3</th>\n",
       "      <td>{'P&gt;|z|': 1.3057684595233286e-31, '_step': 99,...</td>\n",
       "      <td>{'lr': 1e-05, 'num_layers': 10, 'config_path':...</td>\n",
       "      <td>radiant-sweep-7</td>\n",
       "    </tr>\n",
       "    <tr>\n",
       "      <th>4</th>\n",
       "      <td>{'val/loss': 2.936650276184082, 'train/loss': ...</td>\n",
       "      <td>{'lr': 1e-05, 'num_layers': 10, 'config_path':...</td>\n",
       "      <td>kind-sweep-6</td>\n",
       "    </tr>\n",
       "  </tbody>\n",
       "</table>\n",
       "</div>"
      ],
      "text/plain": [
       "                                             summary  \\\n",
       "0  {'odds': 2.8044351539053665, 'P>|z|': 3.371792...   \n",
       "1  {'_timestamp': 1709629253.8705912, 'P>|z|': 3....   \n",
       "2  {'val/loss': 2.938401699066162, 'train/loss': ...   \n",
       "3  {'P>|z|': 1.3057684595233286e-31, '_step': 99,...   \n",
       "4  {'val/loss': 2.936650276184082, 'train/loss': ...   \n",
       "\n",
       "                                              config                 name  \n",
       "0  {'lr': 0.001, 'num_layers': 10, 'config_path':...     helpful-sweep-10  \n",
       "1  {'lr': 1e-05, 'num_layers': 10, 'config_path':...  distinctive-sweep-9  \n",
       "2  {'lr': 1e-05, 'num_layers': 9, 'config_path': ...      helpful-sweep-8  \n",
       "3  {'lr': 1e-05, 'num_layers': 10, 'config_path':...      radiant-sweep-7  \n",
       "4  {'lr': 1e-05, 'num_layers': 10, 'config_path':...         kind-sweep-6  "
      ]
     },
     "execution_count": 1,
     "metadata": {},
     "output_type": "execute_result"
    }
   ],
   "source": [
    "import pandas as pd \n",
    "import wandb\n",
    "api = wandb.Api()\n",
    "\n",
    "# Project is specified by <entity/project-name>\n",
    "runs = api.runs(\"thddbptnsndshs/nonce-lstm-sweeps\")\n",
    "\n",
    "summary_list, config_list, name_list = [], [], []\n",
    "for run in runs: \n",
    "    # .summary contains the output keys/values for metrics like accuracy.\n",
    "    #  We call ._json_dict to omit large files \n",
    "    summary_list.append(run.summary._json_dict)\n",
    "\n",
    "    # .config contains the hyperparameters.\n",
    "    #  We remove special values that start with _.\n",
    "    config_list.append(\n",
    "        {k: v for k,v in run.config.items()\n",
    "          if not k.startswith('_')})\n",
    "\n",
    "    # .name is the human-readable name of the run.\n",
    "    name_list.append(run.name)\n",
    "\n",
    "runs_df = pd.DataFrame({\n",
    "    \"summary\": summary_list,\n",
    "    \"config\": config_list,\n",
    "    \"name\": name_list\n",
    "    })\n",
    "\n",
    "runs_df.head()"
   ]
  },
  {
   "cell_type": "markdown",
   "id": "6972db1a",
   "metadata": {},
   "source": [
    "## summarizing the runs"
   ]
  },
  {
   "cell_type": "code",
   "execution_count": 2,
   "id": "b48d7d0d",
   "metadata": {},
   "outputs": [
    {
     "name": "stderr",
     "output_type": "stream",
     "text": [
      "/tmp/ipykernel_82755/3350704906.py:2: FutureWarning: The default dtype for empty Series will be 'object' instead of 'float64' in a future version. Specify a dtype explicitly to silence this warning.\n",
      "  runs_df = runs_df.merge(runs_df.summary.apply(pd.Series), right_index=True, left_index=True, suffixes=('', '_'))\n"
     ]
    }
   ],
   "source": [
    "runs_df = runs_df.merge(runs_df.config.apply(pd.Series), right_index=True, left_index=True)\n",
    "runs_df = runs_df.merge(runs_df.summary.apply(pd.Series), right_index=True, left_index=True, suffixes=('', '_'))\n",
    "runs_df['lang_code'] = runs_df.config_path.apply(lambda x: x.split('/')[-1].split('.')[0])\n",
    "runs_df = runs_df.merge(pd.read_csv('../data/mapping.tsv', sep='\\t', header=None), \n",
    "                        left_on='lang_code', right_on=0)\n",
    "runs_df.drop(columns=['config', 'summary', '_step', '_wandb', '_timestamp', '_runtime'], inplace=True)\n",
    "runs_df.rename(columns={1: 'syllable_complexity'}, inplace=True)"
   ]
  },
  {
   "cell_type": "code",
   "execution_count": 3,
   "id": "231306ce",
   "metadata": {},
   "outputs": [],
   "source": [
    "runs_df = runs_df.dropna(subset='odds')"
   ]
  },
  {
   "cell_type": "code",
   "execution_count": 4,
   "id": "dff414f4",
   "metadata": {},
   "outputs": [
    {
     "data": {
      "text/html": [
       "<div>\n",
       "<style scoped>\n",
       "    .dataframe tbody tr th:only-of-type {\n",
       "        vertical-align: middle;\n",
       "    }\n",
       "\n",
       "    .dataframe tbody tr th {\n",
       "        vertical-align: top;\n",
       "    }\n",
       "\n",
       "    .dataframe thead th {\n",
       "        text-align: right;\n",
       "    }\n",
       "</style>\n",
       "<table border=\"1\" class=\"dataframe\">\n",
       "  <thead>\n",
       "    <tr style=\"text-align: right;\">\n",
       "      <th></th>\n",
       "      <th>name</th>\n",
       "      <th>lr</th>\n",
       "      <th>num_layers</th>\n",
       "      <th>config_path</th>\n",
       "      <th>hidden_size</th>\n",
       "      <th>embedding_dim</th>\n",
       "      <th>max_word_length</th>\n",
       "      <th>min_word_length</th>\n",
       "      <th>odds</th>\n",
       "      <th>P&gt;|z|</th>\n",
       "      <th>val/loss</th>\n",
       "      <th>standard_error</th>\n",
       "      <th>train/loss</th>\n",
       "      <th>val/perplexity</th>\n",
       "      <th>lang_code</th>\n",
       "      <th>0</th>\n",
       "      <th>syllable_complexity</th>\n",
       "    </tr>\n",
       "  </thead>\n",
       "  <tbody>\n",
       "    <tr>\n",
       "      <th>0</th>\n",
       "      <td>helpful-sweep-10</td>\n",
       "      <td>0.00100</td>\n",
       "      <td>10</td>\n",
       "      <td>configs/ar.yaml</td>\n",
       "      <td>512</td>\n",
       "      <td>64</td>\n",
       "      <td>14</td>\n",
       "      <td>1</td>\n",
       "      <td>2.804435</td>\n",
       "      <td>3.371792e-31</td>\n",
       "      <td>2.769568</td>\n",
       "      <td>11.617155</td>\n",
       "      <td>2.790617</td>\n",
       "      <td>15.952210</td>\n",
       "      <td>ar</td>\n",
       "      <td>ar</td>\n",
       "      <td>2</td>\n",
       "    </tr>\n",
       "    <tr>\n",
       "      <th>1</th>\n",
       "      <td>distinctive-sweep-9</td>\n",
       "      <td>0.00001</td>\n",
       "      <td>10</td>\n",
       "      <td>configs/ar.yaml</td>\n",
       "      <td>128</td>\n",
       "      <td>64</td>\n",
       "      <td>15</td>\n",
       "      <td>1</td>\n",
       "      <td>3.293309</td>\n",
       "      <td>3.323926e-37</td>\n",
       "      <td>3.467453</td>\n",
       "      <td>12.745000</td>\n",
       "      <td>3.476562</td>\n",
       "      <td>32.058456</td>\n",
       "      <td>ar</td>\n",
       "      <td>ar</td>\n",
       "      <td>2</td>\n",
       "    </tr>\n",
       "    <tr>\n",
       "      <th>2</th>\n",
       "      <td>helpful-sweep-8</td>\n",
       "      <td>0.00001</td>\n",
       "      <td>9</td>\n",
       "      <td>configs/ar.yaml</td>\n",
       "      <td>512</td>\n",
       "      <td>64</td>\n",
       "      <td>14</td>\n",
       "      <td>1</td>\n",
       "      <td>2.325923</td>\n",
       "      <td>4.413617e-24</td>\n",
       "      <td>2.938402</td>\n",
       "      <td>10.121987</td>\n",
       "      <td>2.938910</td>\n",
       "      <td>18.885887</td>\n",
       "      <td>ar</td>\n",
       "      <td>ar</td>\n",
       "      <td>2</td>\n",
       "    </tr>\n",
       "    <tr>\n",
       "      <th>3</th>\n",
       "      <td>radiant-sweep-7</td>\n",
       "      <td>0.00001</td>\n",
       "      <td>10</td>\n",
       "      <td>configs/ar.yaml</td>\n",
       "      <td>128</td>\n",
       "      <td>256</td>\n",
       "      <td>15</td>\n",
       "      <td>2</td>\n",
       "      <td>2.809629</td>\n",
       "      <td>1.305768e-31</td>\n",
       "      <td>3.501828</td>\n",
       "      <td>11.697945</td>\n",
       "      <td>3.509928</td>\n",
       "      <td>33.177967</td>\n",
       "      <td>ar</td>\n",
       "      <td>ar</td>\n",
       "      <td>2</td>\n",
       "    </tr>\n",
       "    <tr>\n",
       "      <th>4</th>\n",
       "      <td>kind-sweep-6</td>\n",
       "      <td>0.00001</td>\n",
       "      <td>10</td>\n",
       "      <td>configs/ar.yaml</td>\n",
       "      <td>512</td>\n",
       "      <td>256</td>\n",
       "      <td>15</td>\n",
       "      <td>1</td>\n",
       "      <td>2.685861</td>\n",
       "      <td>1.184034e-29</td>\n",
       "      <td>2.936650</td>\n",
       "      <td>11.309021</td>\n",
       "      <td>2.929586</td>\n",
       "      <td>18.855362</td>\n",
       "      <td>ar</td>\n",
       "      <td>ar</td>\n",
       "      <td>2</td>\n",
       "    </tr>\n",
       "  </tbody>\n",
       "</table>\n",
       "</div>"
      ],
      "text/plain": [
       "                  name       lr  num_layers      config_path  hidden_size  \\\n",
       "0     helpful-sweep-10  0.00100          10  configs/ar.yaml          512   \n",
       "1  distinctive-sweep-9  0.00001          10  configs/ar.yaml          128   \n",
       "2      helpful-sweep-8  0.00001           9  configs/ar.yaml          512   \n",
       "3      radiant-sweep-7  0.00001          10  configs/ar.yaml          128   \n",
       "4         kind-sweep-6  0.00001          10  configs/ar.yaml          512   \n",
       "\n",
       "   embedding_dim  max_word_length  min_word_length      odds         P>|z|  \\\n",
       "0             64               14                1  2.804435  3.371792e-31   \n",
       "1             64               15                1  3.293309  3.323926e-37   \n",
       "2             64               14                1  2.325923  4.413617e-24   \n",
       "3            256               15                2  2.809629  1.305768e-31   \n",
       "4            256               15                1  2.685861  1.184034e-29   \n",
       "\n",
       "   val/loss  standard_error  train/loss  val/perplexity lang_code   0  \\\n",
       "0  2.769568       11.617155    2.790617       15.952210        ar  ar   \n",
       "1  3.467453       12.745000    3.476562       32.058456        ar  ar   \n",
       "2  2.938402       10.121987    2.938910       18.885887        ar  ar   \n",
       "3  3.501828       11.697945    3.509928       33.177967        ar  ar   \n",
       "4  2.936650       11.309021    2.929586       18.855362        ar  ar   \n",
       "\n",
       "   syllable_complexity  \n",
       "0                    2  \n",
       "1                    2  \n",
       "2                    2  \n",
       "3                    2  \n",
       "4                    2  "
      ]
     },
     "execution_count": 4,
     "metadata": {},
     "output_type": "execute_result"
    }
   ],
   "source": [
    "runs_df.head()"
   ]
  },
  {
   "cell_type": "code",
   "execution_count": 5,
   "id": "dcbd2095",
   "metadata": {},
   "outputs": [],
   "source": [
    "best_runs = runs_df.groupby('lang_code').min('odds')"
   ]
  },
  {
   "cell_type": "code",
   "execution_count": 12,
   "id": "18617365",
   "metadata": {
    "scrolled": false
   },
   "outputs": [
    {
     "data": {
      "text/html": [
       "<div>\n",
       "<style scoped>\n",
       "    .dataframe tbody tr th:only-of-type {\n",
       "        vertical-align: middle;\n",
       "    }\n",
       "\n",
       "    .dataframe tbody tr th {\n",
       "        vertical-align: top;\n",
       "    }\n",
       "\n",
       "    .dataframe thead th {\n",
       "        text-align: right;\n",
       "    }\n",
       "</style>\n",
       "<table border=\"1\" class=\"dataframe\">\n",
       "  <thead>\n",
       "    <tr style=\"text-align: right;\">\n",
       "      <th></th>\n",
       "      <th>lr</th>\n",
       "      <th>num_layers</th>\n",
       "      <th>hidden_size</th>\n",
       "      <th>embedding_dim</th>\n",
       "      <th>max_word_length</th>\n",
       "      <th>min_word_length</th>\n",
       "      <th>odds</th>\n",
       "      <th>P&gt;|z|</th>\n",
       "      <th>val/loss</th>\n",
       "      <th>standard_error</th>\n",
       "      <th>train/loss</th>\n",
       "      <th>val/perplexity</th>\n",
       "      <th>syllable_complexity</th>\n",
       "    </tr>\n",
       "    <tr>\n",
       "      <th>lang_code</th>\n",
       "      <th></th>\n",
       "      <th></th>\n",
       "      <th></th>\n",
       "      <th></th>\n",
       "      <th></th>\n",
       "      <th></th>\n",
       "      <th></th>\n",
       "      <th></th>\n",
       "      <th></th>\n",
       "      <th></th>\n",
       "      <th></th>\n",
       "      <th></th>\n",
       "      <th></th>\n",
       "    </tr>\n",
       "  </thead>\n",
       "  <tbody>\n",
       "    <tr>\n",
       "      <th>ar</th>\n",
       "      <td>0.00001</td>\n",
       "      <td>2</td>\n",
       "      <td>128</td>\n",
       "      <td>64</td>\n",
       "      <td>10</td>\n",
       "      <td>1</td>\n",
       "      <td>2.325923</td>\n",
       "      <td>3.106160e-54</td>\n",
       "      <td>1.999034</td>\n",
       "      <td>10.121987</td>\n",
       "      <td>0.939346</td>\n",
       "      <td>7.386579</td>\n",
       "      <td>2</td>\n",
       "    </tr>\n",
       "    <tr>\n",
       "      <th>br</th>\n",
       "      <td>0.00010</td>\n",
       "      <td>2</td>\n",
       "      <td>128</td>\n",
       "      <td>64</td>\n",
       "      <td>7</td>\n",
       "      <td>1</td>\n",
       "      <td>2.136672</td>\n",
       "      <td>9.317086e-45</td>\n",
       "      <td>2.407965</td>\n",
       "      <td>9.384496</td>\n",
       "      <td>1.041928</td>\n",
       "      <td>11.111323</td>\n",
       "      <td>2</td>\n",
       "    </tr>\n",
       "    <tr>\n",
       "      <th>ca</th>\n",
       "      <td>0.00001</td>\n",
       "      <td>2</td>\n",
       "      <td>128</td>\n",
       "      <td>64</td>\n",
       "      <td>9</td>\n",
       "      <td>2</td>\n",
       "      <td>2.476595</td>\n",
       "      <td>1.028148e-54</td>\n",
       "      <td>2.207086</td>\n",
       "      <td>10.678752</td>\n",
       "      <td>0.968516</td>\n",
       "      <td>9.093610</td>\n",
       "      <td>1</td>\n",
       "    </tr>\n",
       "    <tr>\n",
       "      <th>cs</th>\n",
       "      <td>0.00001</td>\n",
       "      <td>4</td>\n",
       "      <td>128</td>\n",
       "      <td>64</td>\n",
       "      <td>7</td>\n",
       "      <td>1</td>\n",
       "      <td>2.992202</td>\n",
       "      <td>1.939649e-54</td>\n",
       "      <td>2.285863</td>\n",
       "      <td>12.050667</td>\n",
       "      <td>2.124311</td>\n",
       "      <td>9.837360</td>\n",
       "      <td>2</td>\n",
       "    </tr>\n",
       "    <tr>\n",
       "      <th>cv</th>\n",
       "      <td>0.00001</td>\n",
       "      <td>6</td>\n",
       "      <td>128</td>\n",
       "      <td>256</td>\n",
       "      <td>15</td>\n",
       "      <td>2</td>\n",
       "      <td>2.634988</td>\n",
       "      <td>4.507567e-52</td>\n",
       "      <td>3.209320</td>\n",
       "      <td>11.265507</td>\n",
       "      <td>3.202778</td>\n",
       "      <td>24.762238</td>\n",
       "      <td>2</td>\n",
       "    </tr>\n",
       "  </tbody>\n",
       "</table>\n",
       "</div>"
      ],
      "text/plain": [
       "                lr  num_layers  hidden_size  embedding_dim  max_word_length  \\\n",
       "lang_code                                                                     \n",
       "ar         0.00001           2          128             64               10   \n",
       "br         0.00010           2          128             64                7   \n",
       "ca         0.00001           2          128             64                9   \n",
       "cs         0.00001           4          128             64                7   \n",
       "cv         0.00001           6          128            256               15   \n",
       "\n",
       "           min_word_length      odds         P>|z|  val/loss  standard_error  \\\n",
       "lang_code                                                                      \n",
       "ar                       1  2.325923  3.106160e-54  1.999034       10.121987   \n",
       "br                       1  2.136672  9.317086e-45  2.407965        9.384496   \n",
       "ca                       2  2.476595  1.028148e-54  2.207086       10.678752   \n",
       "cs                       1  2.992202  1.939649e-54  2.285863       12.050667   \n",
       "cv                       2  2.634988  4.507567e-52  3.209320       11.265507   \n",
       "\n",
       "           train/loss  val/perplexity  syllable_complexity  \n",
       "lang_code                                                   \n",
       "ar           0.939346        7.386579                    2  \n",
       "br           1.041928       11.111323                    2  \n",
       "ca           0.968516        9.093610                    1  \n",
       "cs           2.124311        9.837360                    2  \n",
       "cv           3.202778       24.762238                    2  "
      ]
     },
     "execution_count": 12,
     "metadata": {},
     "output_type": "execute_result"
    }
   ],
   "source": [
    "!pip -q install seaborn\n",
    "best_runs.head()"
   ]
  },
  {
   "cell_type": "code",
   "execution_count": 13,
   "id": "1867d968",
   "metadata": {},
   "outputs": [
    {
     "name": "stdout",
     "output_type": "stream",
     "text": [
      "\\begin{tabular}{lrrrrrrrrrr}\n",
      "\\toprule\n",
      "{} &       lr &  num\\_layers &  hidden\\_size &  embedding\\_dim &  max\\_word\\_length &  min\\_word\\_length &  odds &  val/loss &  val/perplexity &  syllable\\_complexity \\\\\n",
      "lang\\_code &          &             &              &                &                  &                  &       &           &                 &                      \\\\\n",
      "\\midrule\n",
      "ar        &  0.00001 &           2 &          128 &             64 &               10 &                1 &  2.33 &      2.00 &            7.39 &                    2 \\\\\n",
      "br        &  0.00010 &           2 &          128 &             64 &                7 &                1 &  2.14 &      2.41 &           11.11 &                    2 \\\\\n",
      "ca        &  0.00001 &           2 &          128 &             64 &                9 &                2 &  2.48 &      2.21 &            9.09 &                    1 \\\\\n",
      "cs        &  0.00001 &           4 &          128 &             64 &                7 &                1 &  2.99 &      2.29 &            9.84 &                    2 \\\\\n",
      "cv        &  0.00001 &           6 &          128 &            256 &               15 &                2 &  2.63 &      3.21 &           24.76 &                    2 \\\\\n",
      "cy        &  0.00001 &           2 &          512 &             64 &                8 &                1 &  2.82 &      2.14 &            8.53 &                    2 \\\\\n",
      "de        &  0.00001 &           3 &          128 &             64 &                7 &                1 &  1.97 &      1.85 &            6.39 &                    2 \\\\\n",
      "el        &  0.00001 &           2 &          128 &             64 &                8 &                1 &  2.01 &      2.62 &           13.69 &                    2 \\\\\n",
      "eo        &  0.00010 &           5 &          128 &             64 &                8 &                2 &  2.69 &      2.13 &            8.40 &                    2 \\\\\n",
      "es        &  0.00010 &           5 &          128 &             64 &                7 &                1 &  2.85 &      2.14 &            8.48 &                    1 \\\\\n",
      "et        &  0.00001 &           4 &          128 &             64 &                8 &                1 &  2.41 &      2.31 &           10.10 &                    1 \\\\\n",
      "eu        &  0.00001 &           2 &          128 &             64 &                7 &                1 &  2.06 &      2.12 &            8.32 &                    2 \\\\\n",
      "fa        &  0.00001 &           2 &          128 &             64 &                7 &                1 &  1.98 &      1.13 &            3.11 &                    2 \\\\\n",
      "fr        &  0.00001 &           3 &          128 &             64 &                9 &                1 &  2.19 &      2.00 &            7.36 &                    2 \\\\\n",
      "id        &  0.00001 &           2 &          128 &             64 &                8 &                2 &  2.39 &      1.91 &            6.78 &                    2 \\\\\n",
      "it        &  0.00001 &           2 &          128 &             64 &                7 &                1 &  2.10 &      2.05 &            7.79 &                    1 \\\\\n",
      "ky        &  0.00001 &           2 &          128 &             64 &               13 &                1 &  2.07 &      1.90 &            6.69 &                    2 \\\\\n",
      "lt        &  0.00001 &           3 &          128 &             64 &                9 &                1 &  1.74 &      2.24 &            9.37 &                    2 \\\\\n",
      "lv        &  0.00001 &           2 &          128 &             64 &                7 &                1 &  3.05 &      2.23 &            9.31 &                    2 \\\\\n",
      "mn        &  0.00010 &           2 &          128 &             64 &                7 &                3 &  2.87 &      2.26 &            9.64 &                    2 \\\\\n",
      "mt        &  0.00010 &           2 &          128 &             64 &                7 &                1 &  2.03 &      2.41 &           11.13 &                    2 \\\\\n",
      "nl        &  0.00001 &           2 &          128 &             64 &                7 &                2 &  2.38 &      2.28 &            9.83 &                    2 \\\\\n",
      "pl        &  0.00001 &           2 &          128 &             64 &                7 &                1 &  1.73 &      2.11 &            8.25 &                    2 \\\\\n",
      "pt        &  0.00001 &           2 &          128 &             64 &                9 &                1 &  5.57 &      2.03 &            7.62 &                    1 \\\\\n",
      "ro        &  0.00001 &           7 &          512 &             64 &               11 &                1 &  2.79 &      2.59 &           13.29 &                    2 \\\\\n",
      "ru        &  0.00001 &           2 &          128 &             64 &                7 &                1 &  2.11 &      1.72 &            5.60 &                    2 \\\\\n",
      "rw        &  0.00001 &           2 &          128 &             64 &               10 &                1 &  2.14 &      1.95 &            7.06 &                    0 \\\\\n",
      "sah       &  0.00001 &           2 &          128 &             64 &                8 &                1 &  2.63 &      2.31 &           10.04 &                    2 \\\\\n",
      "sk        &  0.00010 &           3 &          128 &             64 &               13 &                2 &  1.96 &      2.84 &           17.04 &                    2 \\\\\n",
      "sl        &  0.00001 &           5 &          128 &             64 &               11 &                1 &  2.71 &      2.45 &           11.58 &                    2 \\\\\n",
      "tr        &  0.00001 &           5 &          128 &             64 &                7 &                1 &  3.56 &      1.98 &            7.22 &                    1 \\\\\n",
      "tt        &  0.00001 &           2 &          128 &             64 &                7 &                1 &  2.68 &      2.01 &            7.48 &                    1 \\\\\n",
      "uk        &  0.00001 &           2 &          128 &             64 &                7 &                1 &  2.09 &      2.05 &            7.77 &                    2 \\\\\n",
      "\\bottomrule\n",
      "\\end{tabular}\n",
      "\n"
     ]
    },
    {
     "name": "stderr",
     "output_type": "stream",
     "text": [
      "/tmp/ipykernel_82755/1366096982.py:9: SettingWithCopyWarning: \n",
      "A value is trying to be set on a copy of a slice from a DataFrame.\n",
      "Try using .loc[row_indexer,col_indexer] = value instead\n",
      "\n",
      "See the caveats in the documentation: https://pandas.pydata.org/pandas-docs/stable/user_guide/indexing.html#returning-a-view-versus-a-copy\n",
      "  out[col] = out[col].round(2)\n",
      "/tmp/ipykernel_82755/1366096982.py:11: FutureWarning: In future versions `DataFrame.to_latex` is expected to utilise the base implementation of `Styler.to_latex` for formatting and rendering. The arguments signature may therefore change. It is recommended instead to use `DataFrame.style.to_latex` which also contains additional functionality.\n",
      "  print(out.to_latex())\n"
     ]
    }
   ],
   "source": [
    "out = best_runs[['lr', 'num_layers', 'hidden_size', 'embedding_dim', 'max_word_length',\n",
    "       'min_word_length', 'odds', 'val/loss', 'val/perplexity', 'syllable_complexity']]\n",
    "\n",
    "for col in [\n",
    "    'odds',\n",
    "    'val/loss',\n",
    "    'val/perplexity',\n",
    "]:\n",
    "    out[col] = out[col].round(2)\n",
    "    \n",
    "print(out.to_latex())"
   ]
  },
  {
   "cell_type": "code",
   "execution_count": 14,
   "id": "8752dfab",
   "metadata": {},
   "outputs": [],
   "source": [
    "# !pip install -q seaborn"
   ]
  },
  {
   "cell_type": "code",
   "execution_count": 15,
   "id": "60d8ae86",
   "metadata": {},
   "outputs": [
    {
     "data": {
      "text/plain": [
       "<Axes: >"
      ]
     },
     "execution_count": 15,
     "metadata": {},
     "output_type": "execute_result"
    },
    {
     "data": {
      "image/png": "[encoded data removed]",
      "text/plain": [
       "<Figure size 640x480 with 2 Axes>"
      ]
     },
     "metadata": {},
     "output_type": "display_data"
    }
   ],
   "source": [
    "import seaborn as sns\n",
    "%matplotlib inline\n",
    "\n",
    "# calculate the correlation matrix on the numeric columns\n",
    "corr = best_runs.select_dtypes('number').corr()\n",
    "\n",
    "# plot the heatmap\n",
    "sns.heatmap(corr)"
   ]
  },
  {
   "cell_type": "code",
   "execution_count": 20,
   "id": "6ac9273b",
   "metadata": {
    "scrolled": false
   },
   "outputs": [
    {
     "data": {
      "image/png": "[encoded data removed]",
      "text/plain": [
       "<Figure size 640x480 with 1 Axes>"
      ]
     },
     "metadata": {},
     "output_type": "display_data"
    }
   ],
   "source": [
    "import matplotlib.pyplot as plt\n",
    "\n",
    "sns.barplot(best_runs, x='syllable_complexity', y='odds')\n",
    "plt.savefig('compl_plot.png')"
   ]
  },
  {
   "cell_type": "code",
   "execution_count": 17,
   "id": "849c6223",
   "metadata": {},
   "outputs": [],
   "source": [
    "!pip3 install -q scipy"
   ]
  },
  {
   "cell_type": "code",
   "execution_count": 18,
   "id": "a4459ace",
   "metadata": {},
   "outputs": [
    {
     "data": {
      "text/plain": [
       "TtestResult(statistic=2.7836985643466976, pvalue=0.009212709918009652, df=30.0)"
      ]
     },
     "execution_count": 18,
     "metadata": {},
     "output_type": "execute_result"
    }
   ],
   "source": [
    "from scipy.stats import ttest_ind\n",
    "\n",
    "res = ttest_ind(\n",
    "    best_runs.loc[(best_runs['syllable_complexity'] == 1), 'odds'],\n",
    "    best_runs.loc[(best_runs['syllable_complexity'] == 2), 'odds'],\n",
    ")\n",
    "res\n"
   ]
  },
  {
   "cell_type": "markdown",
   "id": "1602faf9",
   "metadata": {},
   "source": [
    "## make table with languages for appendix"
   ]
  },
  {
   "cell_type": "code",
   "execution_count": 65,
   "id": "9ce2c549",
   "metadata": {
    "scrolled": false
   },
   "outputs": [],
   "source": [
    "# !wget -q https://github.com/haliaeetus/iso-639/raw/master/data/iso_639-2.json -P ../data/\n",
    "# !wget -q https://github.com/NiuTrans/LanguageCodes/main/README.md -P ../data/"
   ]
  },
  {
   "cell_type": "code",
   "execution_count": 10,
   "id": "a440ac89",
   "metadata": {},
   "outputs": [
    {
     "name": "stdout",
     "output_type": "stream",
     "text": [
      "\\begin{tabular}{lllll}\n",
      "\\toprule\n",
      "{} &             Language &          Language Family > Branch &                                      Macro-area & Syllable structure complexity \\\\\n",
      "ISO-639-1 &                      &                                   &                                                 &                               \\\\\n",
      "\\midrule\n",
      "ar        &               Arabic &            Afro-Asiatic > Semitic &                                    Africa, Asia &                       Complex \\\\\n",
      "br        &            Brezhoneg &            Indo-European > Celtic &                                          Europe &                       Complex \\\\\n",
      "ca        &              Catalan &            Indo-European > Italic &                                          Europe &            Moderately complex \\\\\n",
      "cs        &                Czech &      Indo-European > Balto-Slavic &                                          Europe &                       Complex \\\\\n",
      "cv        &              Chuvash &                    Turkic > Oghur &                                          Europe &                       Complex \\\\\n",
      "cy        &                Welsh &            Indo-European > Celtic &                                          Europe &                       Complex \\\\\n",
      "de        &               German &          Indo-European > Germanic &            North, America, Africa, Europe, Asia &                       Complex \\\\\n",
      "el        &                Greek &          Indo-European > Hellenic &                                  Africa, Europe &                       Complex \\\\\n",
      "es        &              Spanish &            Indo-European > Italic &  North, America, Africa, South, America, Europe &            Moderately complex \\\\\n",
      "et        &             Estonian &                   Uralic > Finnic &                                          Europe &            Moderately complex \\\\\n",
      "eu        &               Basque &                  Language isolate &                                          Europe &                       Complex \\\\\n",
      "fa        &              Persian &      Indo-European > Indo-Iranian &                                            Asia &                       Complex \\\\\n",
      "fr        &               French &            Indo-European > Italic &   North, America, Oceania, Africa, Europe, Asia &                       Complex \\\\\n",
      "id        &           Indonesian &  Austronesian > Malayo-Polynesian &                                            Asia &                       Complex \\\\\n",
      "it        &              Italian &            Indo-European > Italic &                                  Africa, Europe &            Moderately complex \\\\\n",
      "ky        &               Kyrgyz &            Turkic > Common Turkic &                                            Asia &                       Complex \\\\\n",
      "lt        &           Lithuanian &      Indo-European > Balto-Slavic &                                          Europe &                       Complex \\\\\n",
      "lv        &              Latvian &      Indo-European > Balto-Slavic &                                          Europe &                       Complex \\\\\n",
      "mn        &            Mongolian &                          Mongolic &                                            Asia &                       Complex \\\\\n",
      "mn        &  Mongolian(Cyrillic) &                          Mongolic &                                            Asia &                       Complex \\\\\n",
      "mt        &              Maltese &            Afro-Asiatic > Semitic &                                          Europe &                       Complex \\\\\n",
      "nl        &                Dutch &          Indo-European > Germanic &                          Africa, South, America &                       Complex \\\\\n",
      "pl        &               Polish &      Indo-European > Balto-Slavic &                                  Africa, Europe &                       Complex \\\\\n",
      "pt        &           Portuguese &            Indo-European > Italic &            Africa, South, America, Europe, Asia &            Moderately complex \\\\\n",
      "ro        &             Romanian &            Indo-European > Italic &                                          Europe &                       Complex \\\\\n",
      "ru        &              Russian &      Indo-European > Balto-Slavic &                                    Europe, Asia &                       Complex \\\\\n",
      "rw        &          Kinyarwanda &      Niger–Congo > Atlantic–Congo &                                          Africa &                        Simple \\\\\n",
      "sk        &               Slovak &      Indo-European > Balto-Slavic &                                          Europe &                       Complex \\\\\n",
      "sl        &            Slovenian &      Indo-European > Balto-Slavic &                                          Europe &                       Complex \\\\\n",
      "tr        &              Turkish &            Turkic > Common Turkic &                                    Europe, Asia &            Moderately complex \\\\\n",
      "tt        &                Tatar &            Turkic > Common Turkic &                                          Europe &            Moderately complex \\\\\n",
      "uk        &            Ukrainian &      Indo-European > Balto-Slavic &                                          Europe &                       Complex \\\\\n",
      "\\bottomrule\n",
      "\\end{tabular}\n",
      "\n"
     ]
    },
    {
     "name": "stderr",
     "output_type": "stream",
     "text": [
      "/tmp/ipykernel_82755/1566779874.py:22: FutureWarning: In future versions `DataFrame.to_latex` is expected to utilise the base implementation of `Styler.to_latex` for formatting and rendering. The arguments signature may therefore change. It is recommended instead to use `DataFrame.style.to_latex` which also contains additional functionality.\n",
      "  print(lang_map.sort_values('ISO-639-1').set_index('ISO-639-1').to_latex())\n"
     ]
    }
   ],
   "source": [
    "lang_map = pd.read_html('../data/README.md', encoding='utf-8', index_col=None, header=1\n",
    "                       )[0].dropna().rename(columns={\n",
    "                           'Language › Chinese Name': 'Language',\n",
    "                           'Language Family› Branch': 'ISO-639-1',\n",
    "                           'Writing System': 'ISO-639-2',\n",
    "                           'Macro-area': 'ISO-639-3',\n",
    "                           'Unnamed: 4': 'Language Family > Branch',\n",
    "                           'Unnamed: 5': 'Writing System',\n",
    "                           'Unnamed: 6': 'Macro-area',\n",
    "}).drop(columns=['ISO-639-2', 'ISO-639-3', 'Writing System']).reset_index(drop=True)\n",
    "lang_map = lang_map.loc[lang_map['ISO-639-1'].isin(best_runs.index)]\n",
    "lang_map['Language'] = lang_map['Language'].apply(lambda x: x.split(' › ')[0])\n",
    "lang_map['Language Family > Branch'] = lang_map['Language Family > Branch'].apply(lambda x: x.replace('›', '>'))\n",
    "# lang_map['Writing System'] = lang_map['Writing System'].apply(lambda x: ', '.join(x.split()))\n",
    "lang_map['Macro-area'] = lang_map['Macro-area'].apply(lambda x: ', '.join(x.split()))\n",
    "lang_map['Syllable structure complexity'] = lang_map['ISO-639-1'].apply(lambda x: best_runs.loc[x, 'syllable_complexity'])\n",
    "lang_map['Syllable structure complexity'] = lang_map['Syllable structure complexity'].map({\n",
    "    0: 'Simple', \n",
    "    1: 'Moderately complex',\n",
    "    2: 'Complex',\n",
    "})\n",
    "print(lang_map.sort_values('ISO-639-1').set_index('ISO-639-1').to_latex())"
   ]
  },
  {
   "cell_type": "code",
   "execution_count": 14,
   "id": "29cfee7f",
   "metadata": {
    "scrolled": true
   },
   "outputs": [
    {
     "data": {
      "text/plain": [
       "(33,)"
      ]
     },
     "execution_count": 14,
     "metadata": {},
     "output_type": "execute_result"
    }
   ],
   "source": [
    "best_runs['syllable_complexity'].shape\n",
    "best_runs.index.shape"
   ]
  },
  {
   "cell_type": "markdown",
   "id": "cc740411",
   "metadata": {},
   "source": [
    "## preprocess data"
   ]
  },
  {
   "cell_type": "code",
   "execution_count": 5,
   "id": "edc42ddb",
   "metadata": {},
   "outputs": [],
   "source": [
    "import pandas as pd\n",
    "eng = pd.read_csv('data/unigram_freq.csv')\n",
    "eng = eng.loc[(eng.word != '') & (eng.word.apply(type) != float)]\n",
    "eng['count'] = eng['count'].apply(lambda x: round(x / 50_000_000) if x / 500_000 > 1 else 1)\n",
    "wordlist = []\n",
    "\n",
    "for row in eng.iterrows():\n",
    "#     print(row)\n",
    "    wordlist.extend([row[1][0]] * row[1][1])"
   ]
  },
  {
   "cell_type": "code",
   "execution_count": 6,
   "id": "fd9db4d0",
   "metadata": {},
   "outputs": [
    {
     "data": {
      "text/html": [
       "<div>\n",
       "<style scoped>\n",
       "    .dataframe tbody tr th:only-of-type {\n",
       "        vertical-align: middle;\n",
       "    }\n",
       "\n",
       "    .dataframe tbody tr th {\n",
       "        vertical-align: top;\n",
       "    }\n",
       "\n",
       "    .dataframe thead th {\n",
       "        text-align: right;\n",
       "    }\n",
       "</style>\n",
       "<table border=\"1\" class=\"dataframe\">\n",
       "  <thead>\n",
       "    <tr style=\"text-align: right;\">\n",
       "      <th></th>\n",
       "      <th>word</th>\n",
       "      <th>count</th>\n",
       "    </tr>\n",
       "  </thead>\n",
       "  <tbody>\n",
       "    <tr>\n",
       "      <th>0</th>\n",
       "      <td>the</td>\n",
       "      <td>463</td>\n",
       "    </tr>\n",
       "    <tr>\n",
       "      <th>1</th>\n",
       "      <td>of</td>\n",
       "      <td>263</td>\n",
       "    </tr>\n",
       "    <tr>\n",
       "      <th>2</th>\n",
       "      <td>and</td>\n",
       "      <td>260</td>\n",
       "    </tr>\n",
       "    <tr>\n",
       "      <th>3</th>\n",
       "      <td>to</td>\n",
       "      <td>243</td>\n",
       "    </tr>\n",
       "    <tr>\n",
       "      <th>4</th>\n",
       "      <td>a</td>\n",
       "      <td>182</td>\n",
       "    </tr>\n",
       "  </tbody>\n",
       "</table>\n",
       "</div>"
      ],
      "text/plain": [
       "  word  count\n",
       "0  the    463\n",
       "1   of    263\n",
       "2  and    260\n",
       "3   to    243\n",
       "4    a    182"
      ]
     },
     "execution_count": 6,
     "metadata": {},
     "output_type": "execute_result"
    }
   ],
   "source": [
    "eng.head()"
   ]
  },
  {
   "cell_type": "code",
   "execution_count": 7,
   "id": "7360b428",
   "metadata": {},
   "outputs": [
    {
     "data": {
      "text/plain": [
       "303095"
      ]
     },
     "execution_count": 7,
     "metadata": {},
     "output_type": "execute_result"
    }
   ],
   "source": [
    "len(wordlist)"
   ]
  },
  {
   "cell_type": "code",
   "execution_count": 4,
   "id": "6e4073dc",
   "metadata": {},
   "outputs": [],
   "source": [
    "with open('data/vocab_txts/en_splits.txt', 'w') as f:\n",
    "    f.write(' '.join(wordlist[40_000]))"
   ]
  },
  {
   "cell_type": "code",
   "execution_count": 26,
   "id": "030761c5",
   "metadata": {},
   "outputs": [],
   "source": [
    "rus = pd.read_csv('data/rus-ru_web-public_2019_30K-words.txt', delimiter='\\t', header=None, quotechar=\"|\").loc[37:]\n",
    "rus[1] = rus[1].apply(lambda x: x.lower())\n",
    "rus = rus.loc[rus[1].apply(lambda x: all([char in 'АаБбВвГгДдЕеЁёЖжЗзИиЙйКкЛлМмНнОоПпРрСсТтУуФфХхЦцЧчШшЩщЪъЫыЬьЭэЮюЯя'\n",
    "                                   for char in x]))\n",
    "       & (rus[1].apply(len) > 1)].drop_duplicates(subset=[0]).loc[:8000]"
   ]
  },
  {
   "cell_type": "code",
   "execution_count": 27,
   "id": "83a7ed74",
   "metadata": {},
   "outputs": [],
   "source": [
    "rus[2] = rus[2].apply(lambda x: round(x / 6) if x / 6 > 1 else 1)\n",
    "wordlist = []\n",
    "\n",
    "for row in rus.iterrows():\n",
    "#     print(row)\n",
    "    wordlist.extend([row[1][1]] * row[1][2])"
   ]
  },
  {
   "cell_type": "code",
   "execution_count": 28,
   "id": "b5eb232a",
   "metadata": {},
   "outputs": [
    {
     "data": {
      "text/plain": [
       "39130"
      ]
     },
     "execution_count": 28,
     "metadata": {},
     "output_type": "execute_result"
    }
   ],
   "source": [
    "len(wordlist)"
   ]
  },
  {
   "cell_type": "code",
   "execution_count": 30,
   "id": "6a2cf8b4",
   "metadata": {},
   "outputs": [],
   "source": [
    "with open('data/vocab_txts/ru-freq_splits.txt', 'w') as f:\n",
    "    f.write(' '.join(wordlist))"
   ]
  },
  {
   "cell_type": "code",
   "execution_count": 11,
   "id": "10402742",
   "metadata": {},
   "outputs": [],
   "source": [
    "import random\n",
    "import os\n",
    "\n",
    "path = 'data/vocab_txts_short/'\n",
    "\n",
    "for fn in os.listdir(path):\n",
    "    with open(path + fn, 'r') as f:\n",
    "        content = f.read().split()\n",
    "    with open(path + fn, 'w') as f:\n",
    "        f.write(' '.join(random.sample(content, min(4096, len(content)))))"
   ]
  },
  {
   "cell_type": "code",
   "execution_count": 16,
   "id": "6a689a61",
   "metadata": {},
   "outputs": [],
   "source": [
    "with open('../data/vocab_txts/ar_splits.txt', 'r') as f:\n",
    "    content = f.read().split()\n",
    "with open('../data/vocab_txts_short/ar_splits.txt', 'w') as f:\n",
    "    f.write(' '.join(random.sample(content, min(4096, len(content)))))"
   ]
  },
  {
   "cell_type": "code",
   "execution_count": 1,
   "id": "b89ea910",
   "metadata": {},
   "outputs": [],
   "source": [
    "from model import CharModel, configure_model_and_optim\n",
    "from dataset import configure_dataloaders\n",
    "import torch\n",
    "import yaml"
   ]
  },
  {
   "cell_type": "code",
   "execution_count": 2,
   "id": "4cfe66dc",
   "metadata": {},
   "outputs": [],
   "source": [
    "import sys\n",
    "sys.path.append('..')"
   ]
  },
  {
   "cell_type": "code",
   "execution_count": 267,
   "id": "6a132777",
   "metadata": {
    "scrolled": true
   },
   "outputs": [
    {
     "data": {
      "text/html": [
       "Finishing last run (ID:mh1xm4i8) before initializing another..."
      ],
      "text/plain": [
       "<IPython.core.display.HTML object>"
      ]
     },
     "metadata": {},
     "output_type": "display_data"
    },
    {
     "data": {
      "application/vnd.jupyter.widget-view+json": {
       "model_id": "",
       "version_major": 2,
       "version_minor": 0
      },
      "text/plain": [
       "VBox(children=(Label(value='0.007 MB of 0.007 MB uploaded\\r'), FloatProgress(value=1.0, max=1.0)))"
      ]
     },
     "metadata": {},
     "output_type": "display_data"
    },
    {
     "data": {
      "text/html": [
       " View run <strong style=\"color:#cdcd00\">whole-snowball-15</strong> at: <a href='https://wandb.ai/thddbptnsndshs/nonce-words-src_shikunova-as_nonce-words_src/runs/mh1xm4i8' target=\"_blank\">https://wandb.ai/thddbptnsndshs/nonce-words-src_shikunova-as_nonce-words_src/runs/mh1xm4i8</a><br/> View job at <a href='https://wandb.ai/thddbptnsndshs/nonce-words-src_shikunova-as_nonce-words_src/jobs/QXJ0aWZhY3RDb2xsZWN0aW9uOjE0NDc1ODk4NQ==/version_details/v1' target=\"_blank\">https://wandb.ai/thddbptnsndshs/nonce-words-src_shikunova-as_nonce-words_src/jobs/QXJ0aWZhY3RDb2xsZWN0aW9uOjE0NDc1ODk4NQ==/version_details/v1</a><br/>Synced 6 W&B file(s), 0 media file(s), 0 artifact file(s) and 0 other file(s)"
      ],
      "text/plain": [
       "<IPython.core.display.HTML object>"
      ]
     },
     "metadata": {},
     "output_type": "display_data"
    },
    {
     "data": {
      "text/html": [
       "Find logs at: <code>./wandb/run-20240304_155450-mh1xm4i8/logs</code>"
      ],
      "text/plain": [
       "<IPython.core.display.HTML object>"
      ]
     },
     "metadata": {},
     "output_type": "display_data"
    },
    {
     "data": {
      "text/html": [
       "Successfully finished last run (ID:mh1xm4i8). Initializing new run:<br/>"
      ],
      "text/plain": [
       "<IPython.core.display.HTML object>"
      ]
     },
     "metadata": {},
     "output_type": "display_data"
    },
    {
     "data": {
      "application/vnd.jupyter.widget-view+json": {
       "model_id": "6647a77390a748fa89742099d31481e3",
       "version_major": 2,
       "version_minor": 0
      },
      "text/plain": [
       "VBox(children=(Label(value='Waiting for wandb.init()...\\r'), FloatProgress(value=0.011112244178851446, max=1.0…"
      ]
     },
     "metadata": {},
     "output_type": "display_data"
    },
    {
     "data": {
      "text/html": [
       "Tracking run with wandb version 0.16.3"
      ],
      "text/plain": [
       "<IPython.core.display.HTML object>"
      ]
     },
     "metadata": {},
     "output_type": "display_data"
    },
    {
     "data": {
      "text/html": [
       "Run data is saved locally in <code>/home/jovyan/shikunova-as/nonce-words/src/wandb/run-20240304_160004-dp0yrxur</code>"
      ],
      "text/plain": [
       "<IPython.core.display.HTML object>"
      ]
     },
     "metadata": {},
     "output_type": "display_data"
    },
    {
     "data": {
      "text/html": [
       "Syncing run <strong><a href='https://wandb.ai/thddbptnsndshs/nonce-words-src_shikunova-as_nonce-words_src/runs/dp0yrxur' target=\"_blank\">light-sky-16</a></strong> to <a href='https://wandb.ai/thddbptnsndshs/nonce-words-src_shikunova-as_nonce-words_src' target=\"_blank\">Weights & Biases</a> (<a href='https://wandb.me/run' target=\"_blank\">docs</a>)<br/>"
      ],
      "text/plain": [
       "<IPython.core.display.HTML object>"
      ]
     },
     "metadata": {},
     "output_type": "display_data"
    },
    {
     "data": {
      "text/html": [
       " View project at <a href='https://wandb.ai/thddbptnsndshs/nonce-words-src_shikunova-as_nonce-words_src' target=\"_blank\">https://wandb.ai/thddbptnsndshs/nonce-words-src_shikunova-as_nonce-words_src</a>"
      ],
      "text/plain": [
       "<IPython.core.display.HTML object>"
      ]
     },
     "metadata": {},
     "output_type": "display_data"
    },
    {
     "data": {
      "text/html": [
       " View run at <a href='https://wandb.ai/thddbptnsndshs/nonce-words-src_shikunova-as_nonce-words_src/runs/dp0yrxur' target=\"_blank\">https://wandb.ai/thddbptnsndshs/nonce-words-src_shikunova-as_nonce-words_src/runs/dp0yrxur</a>"
      ],
      "text/plain": [
       "<IPython.core.display.HTML object>"
      ]
     },
     "metadata": {},
     "output_type": "display_data"
    },
    {
     "name": "stderr",
     "output_type": "stream",
     "text": [
      "\u001b[34m\u001b[1mwandb\u001b[0m:   1 of 1 files downloaded.  \n"
     ]
    }
   ],
   "source": [
    "import wandb\n",
    "run = wandb.init()\n",
    "artifact = run.use_artifact('thddbptnsndshs/nonce-lstm-sweeps/model:v1028', type='model')\n",
    "artifact_dir = artifact.download()"
   ]
  },
  {
   "cell_type": "code",
   "execution_count": 268,
   "id": "09955fc3",
   "metadata": {},
   "outputs": [
    {
     "data": {
      "text/plain": [
       "'/home/jovyan/shikunova-as/nonce-words/src/artifacts/model:v1028'"
      ]
     },
     "execution_count": 268,
     "metadata": {},
     "output_type": "execute_result"
    }
   ],
   "source": [
    "artifact_dir"
   ]
  },
  {
   "cell_type": "code",
   "execution_count": 273,
   "id": "39a04f32",
   "metadata": {},
   "outputs": [
    {
     "data": {
      "text/plain": [
       "<All keys matched successfully>"
      ]
     },
     "execution_count": 273,
     "metadata": {},
     "output_type": "execute_result"
    }
   ],
   "source": [
    "config_path = '../select_configs/it.yaml'\n",
    "with open(config_path) as cnf:\n",
    "    config = yaml.safe_load(cnf)\n",
    "    \n",
    "config['data']['vocab_path'] = '../data/vocab_txts_short/it_splits.txt'\n",
    "\n",
    "config['model']['embedding']['embedding_dim'] = 64\n",
    "config['model']['gru']['input_size'] = 64 # need to update input_dim too, TODO: reduce to one parameter\n",
    "config['model']['gru']['hidden_size'] = 128\n",
    "config['model']['gru']['num_layers'] = 5\n",
    "# config['data']['max_word_length'] = 15\n",
    "# config['data']['min_word_length'] = 5\n",
    "\n",
    "train_loader, test_loader, wordlist, charlist = configure_dataloaders(config)\n",
    "\n",
    "id2char = dict(zip(range(len(charlist)), charlist))\n",
    "char2id = dict(zip(charlist, range(len(charlist))))\n",
    "\n",
    "model, optim, scheduler = configure_model_and_optim(charlist, config)\n",
    "\n",
    "model = CharModel(charlist, config)\n",
    "model.load_state_dict(torch.load(artifact_dir + '/unk.pt'))"
   ]
  },
  {
   "cell_type": "code",
   "execution_count": 274,
   "id": "3359541e",
   "metadata": {},
   "outputs": [
    {
     "data": {
      "text/plain": [
       "CharModel(\n",
       "  (embed): Embedding(39, 64)\n",
       "  (lstm): GRU(64, 128, num_layers=5, batch_first=True)\n",
       "  (linear): Linear(in_features=128, out_features=39, bias=True)\n",
       ")"
      ]
     },
     "execution_count": 274,
     "metadata": {},
     "output_type": "execute_result"
    }
   ],
   "source": [
    "model.to('cuda')"
   ]
  },
  {
   "cell_type": "code",
   "execution_count": 198,
   "id": "4b94c043",
   "metadata": {
    "scrolled": true
   },
   "outputs": [],
   "source": [
    "def verbose_generate(model, prefix='_', temperature=1.0, max_len=256, temp_decay=.8):\n",
    "    x, y = [], []\n",
    "    all_probs = []\n",
    "    with torch.no_grad():\n",
    "        while True:\n",
    "#             print(temperature)\n",
    "            token_probs = model.get_next_tokens(prefix)\n",
    "            tokens, probs = zip(*token_probs.items())\n",
    "            if temperature == 0:\n",
    "                next_token = tokens[np.argmax(probs)]\n",
    "            else:\n",
    "                probs = np.array([p ** (1. / temperature) for p in probs])\n",
    "                probs /= sum(probs)\n",
    "                temperature *= temp_decay\n",
    "                next_token = np.random.choice(tokens, p=probs)\n",
    "                x.append(next_token)\n",
    "                y.append(probs[tokens.index(next_token)])\n",
    "                all_probs.append(probs)\n",
    "\n",
    "            prefix += next_token\n",
    "            if next_token == '^' or len(prefix) > max_len: break\n",
    "    return prefix, x, y, all_probs\n"
   ]
  },
  {
   "cell_type": "code",
   "execution_count": 279,
   "id": "594dbd16",
   "metadata": {},
   "outputs": [
    {
     "data": {
      "image/png": "[encoded data removed]",
      "text/plain": [
       "<Figure size 640x480 with 1 Axes>"
      ]
     },
     "metadata": {},
     "output_type": "display_data"
    }
   ],
   "source": [
    "import matplotlib.pyplot as plt\n",
    "import numpy as np\n",
    "\n",
    "import matplotlib\n",
    "import matplotlib as mpl\n",
    "\n",
    "\n",
    "word, x, y, all_probs = verbose_generate(model, '_a', temperature=2)\n",
    "data = np.array(y).reshape(1, -1)\n",
    "\n",
    "fig, ax = plt.subplots()\n",
    "im = ax.imshow(data)\n",
    "\n",
    "# Show all ticks and label them with the respective list entries\n",
    "plt.xticks(np.arange(len(x)), labels=x)\n",
    "plt.yticks([])\n",
    "\n",
    "# Loop over data dimensions and create text annotations.\n",
    "for y in range(data.shape[0]):\n",
    "    for x in range(data.shape[1]):\n",
    "        plt.text(x, y, '%.4f' % data[y, x],\n",
    "                 horizontalalignment='center',\n",
    "                 verticalalignment='center',\n",
    "                 color='w'\n",
    "                 )\n",
    "\n",
    "ax.set_title(word)\n",
    "fig.tight_layout()\n",
    "plt.show()"
   ]
  },
  {
   "cell_type": "code",
   "execution_count": 280,
   "id": "cb8fe4be",
   "metadata": {},
   "outputs": [
    {
     "name": "stdout",
     "output_type": "stream",
     "text": [
      "_acwámweswïnhtcù^\n",
      "\n",
      "top char ^\n",
      "e, s, o, a, ^, \n",
      "\n",
      "top char ^\n",
      "e, o, s, a, ^, \n",
      "\n",
      "top char ^\n",
      "e, o, s, a, ^, \n",
      "\n",
      "top char ^\n",
      "e, o, s, a, ^, \n",
      "\n",
      "top char ^\n",
      "e, o, s, a, ^, \n",
      "\n",
      "top char ^\n",
      "t, o, s, a, ^, \n",
      "\n",
      "top char ^\n",
      "t, o, s, a, ^, \n",
      "\n",
      "top char ^\n",
      "t, o, s, a, ^, \n",
      "\n",
      "top char ^\n",
      "t, o, s, a, ^, \n",
      "\n",
      "top char ^\n",
      "t, s, o, a, ^, \n",
      "\n",
      "top char ^\n",
      "t, s, o, a, ^, \n",
      "\n",
      "top char ^\n",
      "t, s, o, a, ^, \n",
      "\n",
      "top char ^\n",
      "t, s, o, a, ^, \n",
      "\n",
      "top char ^\n",
      "t, s, o, a, ^, \n",
      "\n",
      "top char ^\n",
      "t, o, s, a, ^, \n",
      "\n"
     ]
    }
   ],
   "source": [
    "print(word, end='\\n\\n')\n",
    "\n",
    "for chosen_ch, dist in zip(word, list(all_probs)):\n",
    "    print('top char', charlist[dist.argmax()])\n",
    "#     print('chosen char position', np.argsort(dist)[charlist.index(chosen_ch)])\n",
    "#     print('eos char position', np.argsort(dist)[charlist.index('^')])\n",
    "    for char in np.argsort(dist)[-5:]:\n",
    "        print(charlist[char], end=', ')\n",
    "    print('\\n')"
   ]
  },
  {
   "cell_type": "code",
   "execution_count": 254,
   "id": "75912510",
   "metadata": {},
   "outputs": [
    {
     "data": {
      "text/plain": [
       "263081"
      ]
     },
     "execution_count": 254,
     "metadata": {},
     "output_type": "execute_result"
    }
   ],
   "source": [
    "def get_n_params(model):\n",
    "    pp = 0\n",
    "    for p in list(model.parameters()):\n",
    "        nn = 1\n",
    "        for s in list(p.size()):\n",
    "            nn = nn * s\n",
    "        pp += nn\n",
    "    return pp\n",
    "\n",
    "get_n_params(model)"
   ]
  },
  {
   "cell_type": "code",
   "execution_count": 255,
   "id": "24077fc7",
   "metadata": {},
   "outputs": [],
   "source": [
    "def generate(model, prefix='_', temperature=1.0, max_len=256, temp_decay=.8):\n",
    "    with torch.no_grad():\n",
    "        while True:\n",
    "            token_probs = model.get_next_tokens(prefix)\n",
    "#             print(temperature)\n",
    "            tokens, probs = zip(*token_probs.items())\n",
    "            if temperature == 0:\n",
    "                next_token = tokens[np.argmax(probs)]\n",
    "            else:\n",
    "                probs = np.array([p ** (1. / temperature) for p in probs])\n",
    "                temperature *= temp_decay # decrease temperature to encourage less eos tokens too soon\n",
    "                probs /= sum(probs)\n",
    "                next_token = np.random.choice(tokens, p=probs)\n",
    "\n",
    "            prefix += next_token\n",
    "            if next_token == '^' or len(prefix) > max_len: break\n",
    "    return prefix"
   ]
  },
  {
   "cell_type": "code",
   "execution_count": 256,
   "id": "d419e1f6",
   "metadata": {},
   "outputs": [
    {
     "name": "stdout",
     "output_type": "stream",
     "text": [
      "_aөҗямсеч^\n",
      "\n",
      "top char л\n",
      "chosen char position 2\n",
      "eos char position 0\n",
      "р, т, е, а, л, \n",
      "\n",
      "top char л\n",
      "chosen char position 3\n",
      "eos char position 1\n",
      "к, н, р, т, л, \n",
      "\n",
      "top char е\n",
      "chosen char position 9\n",
      "eos char position 1\n",
      "т, и, л, ә, е, \n",
      "\n",
      "top char ^\n",
      "chosen char position 7\n",
      "eos char position 40\n",
      "р, е, н, л, ^, \n",
      "\n",
      "top char ^\n",
      "chosen char position 7\n",
      "eos char position 6\n",
      "л, н, ә, е, ^, \n",
      "\n",
      "top char е\n",
      "chosen char position 28\n",
      "eos char position 6\n",
      "а, н, ә, ^, е, \n",
      "\n",
      "top char ^\n",
      "chosen char position 4\n",
      "eos char position 40\n",
      "е, г, л, н, ^, \n",
      "\n",
      "top char ^\n",
      "chosen char position 3\n",
      "eos char position 6\n",
      "л, н, ә, е, ^, \n",
      "\n"
     ]
    }
   ],
   "source": [
    "print(word, end='\\n\\n')\n",
    "\n",
    "for chosen_ch, dist in zip(word, list(all_probs)):\n",
    "    print('top char', charlist[dist.argmax()])\n",
    "    print('chosen char position', np.argsort(dist)[charlist.index(chosen_ch)])\n",
    "    print('eos char position', np.argsort(dist)[charlist.index('^')])\n",
    "    for char in np.argsort(dist)[-5:]:\n",
    "        print(charlist[char], end=', ')\n",
    "    print('\\n')"
   ]
  },
  {
   "cell_type": "code",
   "execution_count": 259,
   "id": "ed15ade9",
   "metadata": {},
   "outputs": [
    {
     "data": {
      "text/plain": [
       "'_текбде^'"
      ]
     },
     "execution_count": 259,
     "metadata": {},
     "output_type": "execute_result"
    }
   ],
   "source": [
    "generate(model, '_те', 3)"
   ]
  },
  {
   "cell_type": "code",
   "execution_count": 266,
   "id": "dc3f9b94",
   "metadata": {},
   "outputs": [
    {
     "name": "stdout",
     "output_type": "stream",
     "text": [
      "_ыла^\n",
      "_утынп^\n",
      "_тә^\n",
      "_итмәге^\n",
      "_зы^\n",
      "_тгее^\n",
      "_аына^\n",
      "_өнлмә^\n",
      "_әтгә^\n",
      "_ала^\n"
     ]
    }
   ],
   "source": [
    "for _ in range(10): \n",
    "    print(generate(model, '_', 0.8, temp_decay=1.))"
   ]
  },
  {
   "cell_type": "code",
   "execution_count": 142,
   "id": "1e760357",
   "metadata": {},
   "outputs": [
    {
     "data": {
      "text/plain": [
       "torch.Size([34, 256])"
      ]
     },
     "execution_count": 142,
     "metadata": {},
     "output_type": "execute_result"
    }
   ],
   "source": [
    "model.embed.weight.shape"
   ]
  },
  {
   "cell_type": "code",
   "execution_count": 143,
   "id": "089af574",
   "metadata": {},
   "outputs": [],
   "source": [
    "from torch.nn.functional import cosine_similarity\n",
    "\n",
    "def get_char_embedding(model, charlist, char):\n",
    "    idx = charlist.index(char)\n",
    "    return model.embed.weight[idx]"
   ]
  },
  {
   "cell_type": "code",
   "execution_count": 144,
   "id": "0b638c6f",
   "metadata": {},
   "outputs": [
    {
     "data": {
      "text/plain": [
       "tensor(-0.1104, device='cuda:0', grad_fn=<SumBackward1>)"
      ]
     },
     "execution_count": 144,
     "metadata": {},
     "output_type": "execute_result"
    }
   ],
   "source": [
    "a_emb = get_char_embedding(model, charlist, 'a')\n",
    "e_emb = get_char_embedding(model, charlist, 'r')\n",
    "\n",
    "cosine_similarity(a_emb, e_emb, dim=0)"
   ]
  },
  {
   "cell_type": "code",
   "execution_count": 18,
   "id": "a3ae3922",
   "metadata": {},
   "outputs": [
    {
     "data": {
      "image/png": "[encoded data removed]",
      "text/plain": [
       "<Figure size 640x480 with 1 Axes>"
      ]
     },
     "metadata": {},
     "output_type": "display_data"
    }
   ],
   "source": [
    "sim_matrix = np.zeros((len(charlist), len(charlist)))\n",
    "\n",
    "for char1 in charlist:\n",
    "    for char2 in charlist:\n",
    "        sim = cosine_similarity(get_char_embedding(model, charlist, char1),\n",
    "                                get_char_embedding(model, charlist, char2),\n",
    "                                dim=0)\n",
    "        if charlist.index(char1) != charlist.index(char2):\n",
    "            sim_matrix[charlist.index(char1), charlist.index(char2)] = sim\n",
    "\n",
    "\n",
    "fig, ax = plt.subplots()\n",
    "im = ax.imshow(sim_matrix)\n",
    "\n",
    "# Show all ticks and label them with the respective list entries\n",
    "plt.xticks(np.arange(len(charlist)), labels=charlist)\n",
    "plt.yticks(np.arange(len(charlist)), labels=charlist)\n",
    "\n",
    "fig.tight_layout()\n",
    "plt.show()"
   ]
  },
  {
   "cell_type": "markdown",
   "id": "16c30788",
   "metadata": {},
   "source": [
    "### estimating perplexity"
   ]
  },
  {
   "cell_type": "code",
   "execution_count": 82,
   "id": "4fb75500",
   "metadata": {},
   "outputs": [],
   "source": [
    "from utils import *\n",
    "import pandas as pd\n",
    "# from model import *\n",
    "\n",
    "def get_perplexity(model, stimuli):\n",
    "    model.eval()\n",
    "    df = pd.DataFrame({\n",
    "        'Stimuli': stimuli,\n",
    "    })\n",
    "    val_history = []\n",
    "    for word in stimuli:\n",
    "        with torch.no_grad():\n",
    "            word_t = torch.tensor(to_matrix([word], char2id)).to('cuda')\n",
    "            logits = model(word_t[:, :-1]).permute(0, 2, 1)\n",
    "            answers = word_t[:, 1:]\n",
    "            mask = compute_mask(word_t, char2id)[:, 1:]\n",
    "            l_v = loss(logits, answers, mask)\n",
    "            perp = torch.exp(l_v)\n",
    "            perp = perp.detach().cpu().numpy()\n",
    "            val_history.append(perp.item())\n",
    "    df['Perplexity scores'] = val_history\n",
    "    df['Perplexity scores'] = df['Perplexity scores'].round(2)\n",
    "    return df.set_index('Stimuli')"
   ]
  },
  {
   "cell_type": "code",
   "execution_count": 83,
   "id": "87dea646",
   "metadata": {},
   "outputs": [
    {
     "data": {
      "text/html": [
       "<div>\n",
       "<style scoped>\n",
       "    .dataframe tbody tr th:only-of-type {\n",
       "        vertical-align: middle;\n",
       "    }\n",
       "\n",
       "    .dataframe tbody tr th {\n",
       "        vertical-align: top;\n",
       "    }\n",
       "\n",
       "    .dataframe thead th {\n",
       "        text-align: right;\n",
       "    }\n",
       "</style>\n",
       "<table border=\"1\" class=\"dataframe\">\n",
       "  <thead>\n",
       "    <tr style=\"text-align: right;\">\n",
       "      <th></th>\n",
       "      <th>Perplexity scores</th>\n",
       "    </tr>\n",
       "    <tr>\n",
       "      <th>Stimuli</th>\n",
       "      <th></th>\n",
       "    </tr>\n",
       "  </thead>\n",
       "  <tbody>\n",
       "    <tr>\n",
       "      <th>kiki</th>\n",
       "      <td>15.99</td>\n",
       "    </tr>\n",
       "    <tr>\n",
       "      <th>bouba</th>\n",
       "      <td>20.56</td>\n",
       "    </tr>\n",
       "  </tbody>\n",
       "</table>\n",
       "</div>"
      ],
      "text/plain": [
       "         Perplexity scores\n",
       "Stimuli                   \n",
       "kiki                 15.99\n",
       "bouba                20.56"
      ]
     },
     "execution_count": 83,
     "metadata": {},
     "output_type": "execute_result"
    }
   ],
   "source": [
    "get_perplexity(model, ['kiki', 'bouba'])"
   ]
  },
  {
   "cell_type": "code",
   "execution_count": 178,
   "id": "e13fef4b",
   "metadata": {},
   "outputs": [],
   "source": [
    "initial_rt = [\n",
    "    'rtugom',\n",
    "    'ltamat',\n",
    "    'rdeho',\n",
    "    'lgaber',\n",
    "    'rpipi',\n",
    "]\n",
    "\n",
    "initial_tr = [\n",
    "    'trugom',\n",
    "    'tlamat',\n",
    "    'dreho',\n",
    "    'glaber',\n",
    "    'pripi',\n",
    "]"
   ]
  },
  {
   "cell_type": "code",
   "execution_count": 179,
   "id": "8c13a97d",
   "metadata": {},
   "outputs": [
    {
     "ename": "TypeError",
     "evalue": "int() argument must be a string, a bytes-like object or a number, not 'NoneType'",
     "output_type": "error",
     "traceback": [
      "\u001b[0;31m---------------------------------------------------------------------------\u001b[0m",
      "\u001b[0;31mTypeError\u001b[0m                                 Traceback (most recent call last)",
      "Cell \u001b[0;32mIn[179], line 1\u001b[0m\n\u001b[0;32m----> 1\u001b[0m \u001b[38;5;28mprint\u001b[39m(\u001b[43mget_perplexity\u001b[49m\u001b[43m(\u001b[49m\u001b[43msl_model\u001b[49m\u001b[43m,\u001b[49m\u001b[43m \u001b[49m\u001b[43minitial_rt\u001b[49m\u001b[43m)\u001b[49m\u001b[38;5;241m.\u001b[39mto_latex())\n\u001b[1;32m      2\u001b[0m \u001b[38;5;28mprint\u001b[39m(get_perplexity(sl_model, initial_tr)\u001b[38;5;241m.\u001b[39mto_latex())\n",
      "Cell \u001b[0;32mIn[82], line 13\u001b[0m, in \u001b[0;36mget_perplexity\u001b[0;34m(model, stimuli)\u001b[0m\n\u001b[1;32m     11\u001b[0m \u001b[38;5;28;01mfor\u001b[39;00m word \u001b[38;5;129;01min\u001b[39;00m stimuli:\n\u001b[1;32m     12\u001b[0m     \u001b[38;5;28;01mwith\u001b[39;00m torch\u001b[38;5;241m.\u001b[39mno_grad():\n\u001b[0;32m---> 13\u001b[0m         word_t \u001b[38;5;241m=\u001b[39m torch\u001b[38;5;241m.\u001b[39mtensor(\u001b[43mto_matrix\u001b[49m\u001b[43m(\u001b[49m\u001b[43m[\u001b[49m\u001b[43mword\u001b[49m\u001b[43m]\u001b[49m\u001b[43m,\u001b[49m\u001b[43m \u001b[49m\u001b[43mchar2id\u001b[49m\u001b[43m)\u001b[49m)\u001b[38;5;241m.\u001b[39mto(\u001b[38;5;124m'\u001b[39m\u001b[38;5;124mcuda\u001b[39m\u001b[38;5;124m'\u001b[39m)\n\u001b[1;32m     14\u001b[0m         logits \u001b[38;5;241m=\u001b[39m model(word_t[:, :\u001b[38;5;241m-\u001b[39m\u001b[38;5;241m1\u001b[39m])\u001b[38;5;241m.\u001b[39mpermute(\u001b[38;5;241m0\u001b[39m, \u001b[38;5;241m2\u001b[39m, \u001b[38;5;241m1\u001b[39m)\n\u001b[1;32m     15\u001b[0m         answers \u001b[38;5;241m=\u001b[39m word_t[:, \u001b[38;5;241m1\u001b[39m:]\n",
      "File \u001b[0;32m~/shikunova-as/nonce-words/src/utils.py:59\u001b[0m, in \u001b[0;36mto_matrix\u001b[0;34m(lines, char2id, max_len, dtype)\u001b[0m\n\u001b[1;32m     57\u001b[0m \u001b[38;5;28;01mfor\u001b[39;00m i \u001b[38;5;129;01min\u001b[39;00m \u001b[38;5;28mrange\u001b[39m(\u001b[38;5;28mlen\u001b[39m(lines)):\n\u001b[1;32m     58\u001b[0m     line_ix \u001b[38;5;241m=\u001b[39m \u001b[38;5;28mlist\u001b[39m(\u001b[38;5;28mmap\u001b[39m(char2id\u001b[38;5;241m.\u001b[39mget, lines[i][:max_len]))\n\u001b[0;32m---> 59\u001b[0m     \u001b[43mlines_ix\u001b[49m\u001b[43m[\u001b[49m\u001b[43mi\u001b[49m\u001b[43m,\u001b[49m\u001b[43m \u001b[49m\u001b[38;5;241;43m1\u001b[39;49m\u001b[43m:\u001b[49m\u001b[38;5;28;43mlen\u001b[39;49m\u001b[43m(\u001b[49m\u001b[43mline_ix\u001b[49m\u001b[43m)\u001b[49m\u001b[43m \u001b[49m\u001b[38;5;241;43m+\u001b[39;49m\u001b[43m \u001b[49m\u001b[38;5;241;43m1\u001b[39;49m\u001b[43m]\u001b[49m \u001b[38;5;241m=\u001b[39m line_ix\n\u001b[1;32m     60\u001b[0m \u001b[38;5;28;01mreturn\u001b[39;00m lines_ix\n",
      "\u001b[0;31mTypeError\u001b[0m: int() argument must be a string, a bytes-like object or a number, not 'NoneType'"
     ]
    }
   ],
   "source": [
    "print(get_perplexity(sl_model, initial_rt).to_latex())\n",
    "print(get_perplexity(sl_model, initial_tr).to_latex())"
   ]
  },
  {
   "cell_type": "code",
   "execution_count": 153,
   "id": "8fd4508f",
   "metadata": {},
   "outputs": [
    {
     "name": "stdout",
     "output_type": "stream",
     "text": [
      "\\begin{tabular}{lr}\n",
      "\\toprule\n",
      "{} &  Perplexity scores \\\\\n",
      "Stimuli &                    \\\\\n",
      "\\midrule\n",
      "trugom  &              11.29 \\\\\n",
      "stlamat &              14.02 \\\\\n",
      "dreho   &              28.96 \\\\\n",
      "glaber  &              19.30 \\\\\n",
      "pripi   &              20.30 \\\\\n",
      "\\bottomrule\n",
      "\\end{tabular}\n",
      "\n"
     ]
    },
    {
     "name": "stderr",
     "output_type": "stream",
     "text": [
      "/tmp/ipykernel_64961/3476444253.py:1: FutureWarning: In future versions `DataFrame.to_latex` is expected to utilise the base implementation of `Styler.to_latex` for formatting and rendering. The arguments signature may therefore change. It is recommended instead to use `DataFrame.style.to_latex` which also contains additional functionality.\n",
      "  print(get_perplexity(model, initial_tr).to_latex())\n"
     ]
    }
   ],
   "source": [
    "print(get_perplexity(sl_model, initial_tr).to_latex())"
   ]
  },
  {
   "cell_type": "code",
   "execution_count": 185,
   "id": "6f93cf83",
   "metadata": {},
   "outputs": [
    {
     "name": "stdout",
     "output_type": "stream",
     "text": [
      "\\begin{tabular}{lr}\n",
      "\\toprule\n",
      "{} &  Perplexity scores \\\\\n",
      "Stimuli &                    \\\\\n",
      "\\midrule\n",
      "ртугом  &              25.47 \\\\\n",
      "лстамат &              18.64 \\\\\n",
      "рдехо   &              23.91 \\\\\n",
      "лгабер  &              36.30 \\\\\n",
      "рпiпи   &              37.68 \\\\\n",
      "\\bottomrule\n",
      "\\end{tabular}\n",
      "\n",
      "\\begin{tabular}{lr}\n",
      "\\toprule\n",
      "{} &  Perplexity scores \\\\\n",
      "Stimuli &                    \\\\\n",
      "\\midrule\n",
      "тругом  &              22.37 \\\\\n",
      "стламат &              13.81 \\\\\n",
      "дрехо   &              18.31 \\\\\n",
      "глабер  &              25.16 \\\\\n",
      "прiпи   &              24.90 \\\\\n",
      "\\bottomrule\n",
      "\\end{tabular}\n",
      "\n"
     ]
    },
    {
     "name": "stderr",
     "output_type": "stream",
     "text": [
      "/tmp/ipykernel_64961/1697852235.py:17: FutureWarning: In future versions `DataFrame.to_latex` is expected to utilise the base implementation of `Styler.to_latex` for formatting and rendering. The arguments signature may therefore change. It is recommended instead to use `DataFrame.style.to_latex` which also contains additional functionality.\n",
      "  print(get_perplexity(uk_model, initial_rt).to_latex())\n",
      "/tmp/ipykernel_64961/1697852235.py:18: FutureWarning: In future versions `DataFrame.to_latex` is expected to utilise the base implementation of `Styler.to_latex` for formatting and rendering. The arguments signature may therefore change. It is recommended instead to use `DataFrame.style.to_latex` which also contains additional functionality.\n",
      "  print(get_perplexity(uk_model, initial_tr).to_latex())\n"
     ]
    }
   ],
   "source": [
    "# this is Ukranian\n",
    "initial_rt = [\n",
    "    'ртугом',\n",
    "    'лстамат',\n",
    "    'рдехо',\n",
    "    'лгабер',\n",
    "    'рпiпи',\n",
    "]\n",
    "\n",
    "initial_tr = [\n",
    "    'тругом',\n",
    "    'стламат',\n",
    "    'дрехо',\n",
    "    'глабер',\n",
    "    'прiпи',\n",
    "]\n",
    "print(get_perplexity(uk_model, initial_rt).to_latex())\n",
    "print(get_perplexity(uk_model, initial_tr).to_latex())"
   ]
  },
  {
   "cell_type": "code",
   "execution_count": null,
   "id": "c714739e",
   "metadata": {},
   "outputs": [],
   "source": []
  },
  {
   "cell_type": "code",
   "execution_count": null,
   "id": "bdcab47f",
   "metadata": {},
   "outputs": [],
   "source": []
  },
  {
   "cell_type": "code",
   "execution_count": null,
   "id": "934afd5e",
   "metadata": {},
   "outputs": [],
   "source": []
  },
  {
   "cell_type": "code",
   "execution_count": null,
   "id": "6e96a7bc",
   "metadata": {},
   "outputs": [],
   "source": [
    "assert False"
   ]
  },
  {
   "cell_type": "code",
   "execution_count": 161,
   "id": "4028f92d",
   "metadata": {},
   "outputs": [
    {
     "name": "stdout",
     "output_type": "stream",
     "text": [
      "\\begin{tabular}{lr}\n",
      "\\toprule\n",
      "{} &  Perplexity scores \\\\\n",
      "Stimuli &                    \\\\\n",
      "\\midrule\n",
      "rtugom  &              18.48 \\\\\n",
      "lstamat &              14.92 \\\\\n",
      "rdeho   &              15.88 \\\\\n",
      "lgaber  &              14.51 \\\\\n",
      "rpipi   &              21.25 \\\\\n",
      "\\bottomrule\n",
      "\\end{tabular}\n",
      "\n",
      "\n",
      "\\begin{tabular}{lr}\n",
      "\\toprule\n",
      "{} &  Perplexity scores \\\\\n",
      "Stimuli &                    \\\\\n",
      "\\midrule\n",
      "trugom  &              10.21 \\\\\n",
      "stlamat &              11.79 \\\\\n",
      "dreho   &               9.17 \\\\\n",
      "glaber  &              10.79 \\\\\n",
      "pripi   &               7.59 \\\\\n",
      "\\bottomrule\n",
      "\\end{tabular}\n",
      "\n"
     ]
    },
    {
     "name": "stderr",
     "output_type": "stream",
     "text": [
      "/tmp/ipykernel_64961/1815879618.py:4: FutureWarning: In future versions `DataFrame.to_latex` is expected to utilise the base implementation of `Styler.to_latex` for formatting and rendering. The arguments signature may therefore change. It is recommended instead to use `DataFrame.style.to_latex` which also contains additional functionality.\n",
      "  print(get_perplexity(model, initial_rt).to_latex())\n",
      "/tmp/ipykernel_64961/1815879618.py:6: FutureWarning: In future versions `DataFrame.to_latex` is expected to utilise the base implementation of `Styler.to_latex` for formatting and rendering. The arguments signature may therefore change. It is recommended instead to use `DataFrame.style.to_latex` which also contains additional functionality.\n",
      "  print(get_perplexity(model, initial_tr).to_latex())\n"
     ]
    }
   ],
   "source": [
    "# this is Slovene\n",
    "\n",
    "model.to('cuda')\n",
    "print(get_perplexity(model, initial_rt).to_latex())\n",
    "print()\n",
    "print(get_perplexity(model, initial_tr).to_latex())"
   ]
  },
  {
   "cell_type": "code",
   "execution_count": 163,
   "id": "760b216b",
   "metadata": {},
   "outputs": [],
   "source": [
    "sl_model = model"
   ]
  },
  {
   "cell_type": "code",
   "execution_count": 175,
   "id": "be823de1",
   "metadata": {},
   "outputs": [],
   "source": [
    "uk_model = model"
   ]
  },
  {
   "cell_type": "code",
   "execution_count": 188,
   "id": "43b2b869",
   "metadata": {},
   "outputs": [
    {
     "name": "stdout",
     "output_type": "stream",
     "text": [
      "_кк^\n",
      "_хвк^\n",
      "_аніюьотй^\n",
      "_жоти^\n",
      "_лк^\n",
      "_лекнят^\n",
      "_аббьнн^\n",
      "_шлмиіія^\n",
      "_iаоц^\n",
      "_маа^\n"
     ]
    }
   ],
   "source": [
    "for _ in range(10):\n",
    "    print(uk_model.generate())"
   ]
  },
  {
   "cell_type": "markdown",
   "id": "68d19973",
   "metadata": {},
   "source": [
    "## zip the project"
   ]
  },
  {
   "cell_type": "code",
   "execution_count": null,
   "id": "3ff84e0a",
   "metadata": {},
   "outputs": [],
   "source": [
    "import shutil\n",
    "\n",
    "output_filename = 'nonce-words'\n",
    "dir_name = '/home/jovyan/shikunova-as/nonce-words'\n",
    "shutil.make_archive(output_filename, 'zip', dir_name)\n"
   ]
  },
  {
   "cell_type": "code",
   "execution_count": null,
   "id": "1d050643",
   "metadata": {},
   "outputs": [],
   "source": []
  }
 ],
 "metadata": {
  "kernelspec": {
   "display_name": "Python [conda env:root] *",
   "language": "python",
   "name": "conda-root-py"
  },
  "language_info": {
   "codemirror_mode": {
    "name": "ipython",
    "version": 3
   },
   "file_extension": ".py",
   "mimetype": "text/x-python",
   "name": "python",
   "nbconvert_exporter": "python",
   "pygments_lexer": "ipython3",
   "version": "3.9.18"
  }
 },
 "nbformat": 4,
 "nbformat_minor": 5
}
